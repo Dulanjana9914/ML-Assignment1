{
 "cells": [
  {
   "attachments": {},
   "cell_type": "markdown",
   "metadata": {},
   "source": [
    "# Import libraries"
   ]
  },
  {
   "cell_type": "code",
   "execution_count": null,
   "metadata": {},
   "outputs": [],
   "source": [
    "# Import libraries\n",
    "import numpy as np\n",
    "import matplotlib.pyplot as mtp\n",
    "import pandas as pd\n",
    "import seaborn as sb\n",
    "from sklearn.model_selection import train_test_split\n",
    "from sklearn.preprocessing import LabelEncoder\n",
    "import warnings\n",
    "warnings.filterwarnings('ignore')\n",
    "%matplotlib inline"
   ]
  },
  {
   "cell_type": "code",
   "execution_count": null,
   "metadata": {},
   "outputs": [],
   "source": [
    "# Loading dataset into data_set variable\n",
    "data_set = pd.read_csv('./Data/vehicle_data.csv')"
   ]
  },
  {
   "cell_type": "code",
   "execution_count": null,
   "metadata": {},
   "outputs": [],
   "source": [
    "# Previewing data set column and row count\n",
    "data_set.shape"
   ]
  },
  {
   "cell_type": "code",
   "execution_count": null,
   "metadata": {},
   "outputs": [],
   "source": [
    "# Preview data\n",
    "data_set.head(5)"
   ]
  },
  {
   "cell_type": "code",
   "execution_count": null,
   "metadata": {},
   "outputs": [],
   "source": [
    "#Get summery of the data\n",
    "data_set.describe()"
   ]
  },
  {
   "cell_type": "code",
   "execution_count": null,
   "metadata": {},
   "outputs": [],
   "source": [
    "# Check null values count\n",
    "data_set.isnull().sum()"
   ]
  },
  {
   "attachments": {},
   "cell_type": "markdown",
   "metadata": {},
   "source": [
    "# Preprocess the dataset "
   ]
  },
  {
   "cell_type": "code",
   "execution_count": null,
   "metadata": {},
   "outputs": [],
   "source": [
    "# Select only SUV and SUV/4x4 from 'Body' column\n",
    "SUV = data_set[(data_set['Body'] == 'SUV') | (data_set['Body'] == 'SUV / 4x4')]"
   ]
  },
  {
   "attachments": {},
   "cell_type": "markdown",
   "metadata": {},
   "source": [
    "Feature selection"
   ]
  },
  {
   "cell_type": "code",
   "execution_count": null,
   "metadata": {},
   "outputs": [],
   "source": [
    "# Drop unwanted columns for price prediction\n",
    "\n",
    "SUV = SUV.drop(['Sub_title','Location','Post_URL','Seller_type','published_date','Body','Seller_name','Edition','Description','Condition','Title'], axis = 'columns')"
   ]
  },
  {
   "cell_type": "code",
   "execution_count": null,
   "metadata": {},
   "outputs": [],
   "source": [
    "# View data after drop columns\n",
    "SUV.head(15)"
   ]
  },
  {
   "cell_type": "code",
   "execution_count": null,
   "metadata": {},
   "outputs": [],
   "source": [
    "# View the data types in columns\n",
    "SUV.info()"
   ]
  },
  {
   "cell_type": "code",
   "execution_count": null,
   "metadata": {},
   "outputs": [],
   "source": [
    "# Replace non numeric characters in 'Price' column\n",
    "\n",
    "SUV['Price'] =SUV['Price'].str.replace('Rs.','')\n",
    "SUV['Price'] =SUV['Price'].str.replace(',','')"
   ]
  },
  {
   "cell_type": "code",
   "execution_count": null,
   "metadata": {},
   "outputs": [],
   "source": [
    "# Convert to numeric values\n",
    "SUV['Price'] = pd.to_numeric(SUV['Price'], errors='coerce')\n",
    "\n",
    "# Remove rows with NaN values for 'Price' column\n",
    "SUV.dropna(subset=['Price'], inplace=True)\n",
    "\n",
    "SUV['Price'] = SUV['Price'].astype('int64')"
   ]
  },
  {
   "cell_type": "code",
   "execution_count": null,
   "metadata": {},
   "outputs": [],
   "source": [
    "# Remove non-numeric values in 'Capacity' column\n",
    "\n",
    "SUV['Capacity'] =SUV['Capacity'].str.replace('[^0-9]', '')"
   ]
  },
  {
   "cell_type": "code",
   "execution_count": null,
   "metadata": {},
   "outputs": [],
   "source": [
    "# Convert to numeric values\n",
    "SUV['Capacity'] = pd.to_numeric(SUV['Capacity'], errors='coerce')\n",
    "\n",
    "# Remove rows with NaN values for 'Capacity' column\n",
    "SUV.dropna(subset=['Capacity'], inplace=True)\n",
    "SUV['Capacity'] = SUV['Capacity'].astype('int64')"
   ]
  },
  {
   "cell_type": "code",
   "execution_count": null,
   "metadata": {},
   "outputs": [],
   "source": [
    "#Remove records less than 990 and more than 6000 from capacity column\n",
    "\n",
    "SUV=SUV[(SUV['Capacity'] >= 990) & (SUV['Capacity'] <= 6000)]"
   ]
  },
  {
   "cell_type": "code",
   "execution_count": null,
   "metadata": {},
   "outputs": [],
   "source": [
    "# Replace non numeric characters in 'Mileage' column\n",
    "\n",
    "SUV['Mileage'] =SUV['Mileage'].str.replace('km','')\n",
    "SUV['Mileage'] =SUV['Mileage'].str.replace(',','')"
   ]
  },
  {
   "cell_type": "code",
   "execution_count": null,
   "metadata": {},
   "outputs": [],
   "source": [
    "# Convert to numeric values\n",
    "SUV['Mileage'] = pd.to_numeric(SUV['Mileage'], errors='coerce')\n",
    "\n",
    "# Remove rows with NaN values for 'Mileage' column\n",
    "SUV.dropna(subset=['Mileage'], inplace=True)\n",
    "\n",
    "SUV['Mileage'] = SUV['Mileage'].astype('int64')"
   ]
  },
  {
   "cell_type": "code",
   "execution_count": null,
   "metadata": {},
   "outputs": [],
   "source": [
    "# Remove possible error values\n",
    "values_to_remove = [12345,11111]\n",
    "\n",
    "# Remove rows with specific values in 'Mileage' column\n",
    "SUV = SUV[~SUV['Mileage'].isin(values_to_remove)]\n",
    "\n",
    "# Remove rows with values greater than 500000 and less than 10000 in 'Mileage' column\n",
    "SUV= SUV[SUV['Mileage'] <= 500000]\n",
    "SUV = SUV[SUV['Mileage'] >= 10000]"
   ]
  }
 ],
 "metadata": {
  "language_info": {
   "name": "python"
  },
  "orig_nbformat": 4
 },
 "nbformat": 4,
 "nbformat_minor": 2
}
