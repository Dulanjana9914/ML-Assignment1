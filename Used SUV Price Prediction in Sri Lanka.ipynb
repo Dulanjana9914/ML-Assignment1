{
 "cells": [
  {
   "attachments": {},
   "cell_type": "markdown",
   "metadata": {},
   "source": [
    "# Import libraries"
   ]
  },
  {
   "cell_type": "code",
   "execution_count": null,
   "metadata": {},
   "outputs": [],
   "source": [
    "# Import libraries\n",
    "import numpy as np\n",
    "import matplotlib.pyplot as mtp\n",
    "import pandas as pd\n",
    "import seaborn as sb\n",
    "from sklearn.model_selection import train_test_split\n",
    "from sklearn.preprocessing import LabelEncoder\n",
    "import warnings\n",
    "warnings.filterwarnings('ignore')\n",
    "%matplotlib inline"
   ]
  },
  {
   "cell_type": "code",
   "execution_count": null,
   "metadata": {},
   "outputs": [],
   "source": [
    "# Loading dataset into data_set variable\n",
    "data_set = pd.read_csv('./Data/vehicle_data.csv')"
   ]
  },
  {
   "cell_type": "code",
   "execution_count": null,
   "metadata": {},
   "outputs": [],
   "source": [
    "# Previewing data set column and row count\n",
    "data_set.shape"
   ]
  },
  {
   "cell_type": "code",
   "execution_count": null,
   "metadata": {},
   "outputs": [],
   "source": [
    "# Preview data\n",
    "data_set.head(5)"
   ]
  },
  {
   "cell_type": "code",
   "execution_count": null,
   "metadata": {},
   "outputs": [],
   "source": [
    "#Get summery of the data\n",
    "data_set.describe()"
   ]
  },
  {
   "cell_type": "code",
   "execution_count": null,
   "metadata": {},
   "outputs": [],
   "source": [
    "# Check null values count\n",
    "data_set.isnull().sum()"
   ]
  },
  {
   "attachments": {},
   "cell_type": "markdown",
   "metadata": {},
   "source": [
    "# Preprocess the dataset "
   ]
  },
  {
   "cell_type": "code",
   "execution_count": null,
   "metadata": {},
   "outputs": [],
   "source": [
    "# Select only SUV and SUV/4x4 from 'Body' column\n",
    "SUV = data_set[(data_set['Body'] == 'SUV') | (data_set['Body'] == 'SUV / 4x4')]"
   ]
  },
  {
   "attachments": {},
   "cell_type": "markdown",
   "metadata": {},
   "source": [
    "Feature selection"
   ]
  },
  {
   "cell_type": "code",
   "execution_count": null,
   "metadata": {},
   "outputs": [],
   "source": [
    "# Drop unwanted columns for price prediction\n",
    "\n",
    "SUV = SUV.drop(['Sub_title','Location','Post_URL','Seller_type','published_date','Body','Seller_name','Edition','Description','Condition','Title'], axis = 'columns')"
   ]
  },
  {
   "cell_type": "code",
   "execution_count": null,
   "metadata": {},
   "outputs": [],
   "source": [
    "# View data after drop columns\n",
    "SUV.head(15)"
   ]
  },
  {
   "cell_type": "code",
   "execution_count": null,
   "metadata": {},
   "outputs": [],
   "source": [
    "# View the data types in columns\n",
    "SUV.info()"
   ]
  },
  {
   "cell_type": "code",
   "execution_count": null,
   "metadata": {},
   "outputs": [],
   "source": [
    "# Replace non numeric characters in 'Price' column\n",
    "\n",
    "SUV['Price'] =SUV['Price'].str.replace('Rs.','')\n",
    "SUV['Price'] =SUV['Price'].str.replace(',','')"
   ]
  },
  {
   "cell_type": "code",
   "execution_count": null,
   "metadata": {},
   "outputs": [],
   "source": [
    "# Convert to numeric values\n",
    "SUV['Price'] = pd.to_numeric(SUV['Price'], errors='coerce')\n",
    "\n",
    "# Remove rows with NaN values for 'Price' column\n",
    "SUV.dropna(subset=['Price'], inplace=True)\n",
    "\n",
    "SUV['Price'] = SUV['Price'].astype('int64')"
   ]
  },
  {
   "cell_type": "code",
   "execution_count": null,
   "metadata": {},
   "outputs": [],
   "source": [
    "# Remove non-numeric values in 'Capacity' column\n",
    "\n",
    "SUV['Capacity'] =SUV['Capacity'].str.replace('[^0-9]', '')"
   ]
  },
  {
   "cell_type": "code",
   "execution_count": null,
   "metadata": {},
   "outputs": [],
   "source": [
    "# Convert to numeric values\n",
    "SUV['Capacity'] = pd.to_numeric(SUV['Capacity'], errors='coerce')\n",
    "\n",
    "# Remove rows with NaN values for 'Capacity' column\n",
    "SUV.dropna(subset=['Capacity'], inplace=True)\n",
    "SUV['Capacity'] = SUV['Capacity'].astype('int64')"
   ]
  },
  {
   "cell_type": "code",
   "execution_count": null,
   "metadata": {},
   "outputs": [],
   "source": [
    "#Remove records less than 990 and more than 6000 from capacity column\n",
    "\n",
    "SUV=SUV[(SUV['Capacity'] >= 990) & (SUV['Capacity'] <= 6000)]"
   ]
  },
  {
   "cell_type": "code",
   "execution_count": null,
   "metadata": {},
   "outputs": [],
   "source": [
    "# Replace non numeric characters in 'Mileage' column\n",
    "\n",
    "SUV['Mileage'] =SUV['Mileage'].str.replace('km','')\n",
    "SUV['Mileage'] =SUV['Mileage'].str.replace(',','')"
   ]
  },
  {
   "cell_type": "code",
   "execution_count": null,
   "metadata": {},
   "outputs": [],
   "source": [
    "# Convert to numeric values\n",
    "SUV['Mileage'] = pd.to_numeric(SUV['Mileage'], errors='coerce')\n",
    "\n",
    "# Remove rows with NaN values for 'Mileage' column\n",
    "SUV.dropna(subset=['Mileage'], inplace=True)\n",
    "\n",
    "SUV['Mileage'] = SUV['Mileage'].astype('int64')"
   ]
  },
  {
   "cell_type": "code",
   "execution_count": null,
   "metadata": {},
   "outputs": [],
   "source": [
    "# Remove possible error values\n",
    "values_to_remove = [12345,11111]\n",
    "\n",
    "# Remove rows with specific values in 'Mileage' column\n",
    "SUV = SUV[~SUV['Mileage'].isin(values_to_remove)]\n",
    "\n",
    "# Remove rows with values greater than 500000 and less than 10000 in 'Mileage' column\n",
    "SUV= SUV[SUV['Mileage'] <= 500000]\n",
    "SUV = SUV[SUV['Mileage'] >= 10000]"
   ]
  },
  {
   "cell_type": "code",
   "execution_count": null,
   "metadata": {},
   "outputs": [],
   "source": [
    "# View unique brands that are available in the data set\n",
    "SUV['Brand'].unique()"
   ]
  },
  {
   "cell_type": "code",
   "execution_count": null,
   "metadata": {},
   "outputs": [],
   "source": [
    "# Categorize the same brand into one category\n",
    "SUV['Brand'] =SUV['Brand'].str.replace('Range-Rover','Land Rover')\n",
    "SUV['Brand'] =SUV['Brand'].str.replace('Land-Rover','Land Rover')\n",
    "SUV['Brand'] =SUV['Brand'].str.replace('Mercedes-Benz','Mercedes Benz')\n",
    "SUV['Brand'] =SUV['Brand'].str.replace('Ssangyong','Ssang Yong')"
   ]
  },
  {
   "cell_type": "code",
   "execution_count": null,
   "metadata": {},
   "outputs": [],
   "source": [
    "# Get different brand counts\n",
    "brand_counts = SUV['Brand'].value_counts()\n",
    "\n",
    "# Get the brands with at least 10 records\n",
    "brands_to_keep = brand_counts[brand_counts >= 10].index\n",
    "\n",
    "# Filter the DataFrame to only include rows with brands to keep\n",
    "SUV = SUV[SUV['Brand'].isin(brands_to_keep)]\n",
    "\n",
    "# Rename all brands which have less than 70 records, as 'Other brand'\n",
    "SUV['Brand'] = SUV['Brand'].replace(brand_counts[brand_counts < 70].index, 'Other Brand')"
   ]
  },
  {
   "cell_type": "code",
   "execution_count": null,
   "metadata": {},
   "outputs": [],
   "source": [
    "# Identify the unique values in 'Brand' column\n",
    "SUV['Brand'].value_counts()"
   ]
  },
  {
   "cell_type": "code",
   "execution_count": null,
   "metadata": {},
   "outputs": [],
   "source": [
    "# Further categorize the brand\n",
    "\n",
    "SUV.loc[SUV['Brand'].str.contains('Daihatsu|Isuzu|Suzuki'), 'Brand'] = 'Other Japanese'\n",
    "SUV.loc[SUV['Brand'].str.contains('Audi|MG|Jeep|Ford|Peugeot'), 'Brand'] = 'Other Europe'\n",
    "SUV.loc[SUV['Brand'].str.contains('Kia|Ssang Yong'), 'Brand'] = 'Other Korean'\n",
    "SUV.loc[SUV['Brand'].str.contains('DFSK|Mahindra|Tata'), 'Brand'] = 'Indian'"
   ]
  },
  {
   "cell_type": "code",
   "execution_count": null,
   "metadata": {},
   "outputs": [],
   "source": [
    "# Categorize the models \n",
    "SUV.loc[SUV['Brand'] == 'Other Brand', 'Model'] = 'Other Model'\n",
    "SUV.loc[SUV['Brand'] == 'Other Japanese', 'Model'] = 'Other Japanese'\n",
    "SUV.loc[SUV['Brand'] == 'Other Europe', 'Model'] = 'Other Europe'\n",
    "SUV.loc[SUV['Brand'] == 'Other Korean', 'Model'] = 'Other Korean'\n",
    "SUV.loc[SUV['Brand'] == 'Indian', 'Model'] = 'Indian'"
   ]
  },
  {
   "cell_type": "code",
   "execution_count": null,
   "metadata": {},
   "outputs": [],
   "source": [
    "#Identify unique \"Models\" that available\n",
    "SUV['Model'].unique()"
   ]
  },
  {
   "cell_type": "code",
   "execution_count": null,
   "metadata": {},
   "outputs": [],
   "source": [
    "# Do the segmentation for models\n",
    "\n",
    "SUV.loc[SUV['Model'].str.contains('Prado|PRADO|Land Cruiser|LAND CRUISER|Land cruiser'), 'Model'] = 'Land Cruiser Prado'\n",
    "SUV.loc[SUV['Model'].str.contains('Vezel',case=False), 'Model'] = 'Vezel'\n",
    "SUV.loc[SUV['Model'].str.contains('Montero|MONTERO|montero'), 'Model'] = 'Montero'\n",
    "SUV.loc[SUV['Model'].str.contains('Defender',case=False), 'Model'] = 'Defender'\n",
    "SUV.loc[SUV['Model'].str.contains('Discovery',case=False), 'Model'] = 'Discovery'\n",
    "SUV.loc[SUV['Model'].str.contains('Outlander',case=False), 'Model'] = 'Outlander'\n",
    "SUV.loc[SUV['Model'].str.contains('Pajero|PAJERO'), 'Model'] = 'Pajero'\n",
    "SUV.loc[SUV['Model'].str.contains('Range Rover|RANGE ROVER|velar|Velar'), 'Model'] = 'Range Rover'\n",
    "SUV.loc[SUV['Model'].str.contains('CHR|Chr|ChR'), 'Model'] = 'CHR'\n",
    "SUV.loc[SUV['Model'].str.contains('CRV|C-RV|Crv'), 'Model'] = 'CRV'\n",
    "SUV.loc[SUV['Model'].str.contains('X-Trail|X trail|X-trail|X Trail|XTrail|X TRAIL|X Trail|X-TRAIL'), 'Model'] = 'X-Trail'\n",
    "SUV.loc[SUV['Model'].str.contains('X1|x1'), 'Model'] = 'X1'\n",
    "SUV.loc[SUV['Model'].str.contains('X3|x3'), 'Model'] = 'X3'\n",
    "SUV.loc[SUV['Model'].str.contains('X5|x5'), 'Model'] = 'X5'\n",
    "SUV.loc[SUV['Model'].str.contains('Harrier',case=False), 'Model'] = 'Harrier'\n",
    "SUV.loc[SUV['Model'].str.contains('4Dr|4DR|4dr|4dR'), 'Model'] = '4DR'\n",
    "SUV.loc[SUV['Model'].str.contains('Eclipse',case=False), 'Model'] = 'Eclipse'\n",
    "SUV.loc[SUV['Model'].str.contains('Tucson|TUCSON'), 'Model'] = 'Tucson'\n",
    "SUV.loc[SUV['Model'].str.contains('Rexton|REXTON|Ssangyong|Kyron'), 'Model'] = 'Rexton'\n",
    "SUV.loc[SUV['Model'].str.contains('Sorento',case=False), 'Model'] = 'Sorento'\n",
    "SUV.loc[SUV['Model'].str.contains('Sportage',case=False), 'Model'] = 'Sportage'\n",
    "SUV.loc[SUV['Model'].str.contains('Escudo',case=False), 'Model'] = 'Escudo'\n",
    "SUV.loc[SUV['Model'].str.contains('Rush',case=False), 'Model'] = 'Rush'\n",
    "SUV.loc[SUV['Model'].str.contains('Rav',case=False), 'Model'] = 'Rav'\n",
    "SUV.loc[SUV['Model'].str.contains('Korando',case=False), 'Model'] = 'Korando'\n",
    "SUV.loc[SUV['Model'].str.contains('Fortuner',case=False), 'Model'] = 'Fortuner'\n",
    "SUV.loc[SUV['Model'].str.contains('Hrv|H-RV|HR-V|HRV',case=False), 'Model'] = 'HRV'\n",
    "SUV.loc[SUV['Model'].str.contains('santa fe',case=False), 'Model'] = 'Santa Fe'\n",
    "SUV.loc[SUV['Model'].str.contains('jimny',case=False), 'Model'] = 'Jimny'\n",
    "SUV.loc[SUV['Model'].str.contains('jeep',case=False), 'Model'] = 'Jeep'\n",
    "SUV.loc[SUV['Model'].str.contains('zs',case=False), 'Model'] = 'ZS'\n",
    "SUV.loc[SUV['Model'].str.contains('juke',case=False), 'Model'] = 'Juke'\n",
    "SUV.loc[SUV['Model'].str.contains('patrol',case=False), 'Model'] = 'Patrol'\n",
    "SUV.loc[SUV['Model'].str.contains('raize',case=False), 'Model'] = 'Raize'\n",
    "SUV.loc[SUV['Model'].str.contains('gypsy',case=False), 'Model'] = 'Gypsy'\n",
    "SUV.loc[SUV['Model'].str.contains('cami',case=False), 'Model'] = 'Cami'\n"
   ]
  },
  {
   "cell_type": "code",
   "execution_count": null,
   "metadata": {},
   "outputs": [],
   "source": [
    "#Get the count for models\n",
    "model_counts = SUV['Model'].value_counts()\n",
    "\n",
    "# Get the model with at least 30 records\n",
    "models_to_keep = model_counts[model_counts >= 30].index\n",
    "print (models_to_keep)\n",
    "\n",
    "# Filter the DataFrame to only include rows with models to keep\n",
    "SUV = SUV[SUV['Model'].isin(models_to_keep)]"
   ]
  },
  {
   "cell_type": "code",
   "execution_count": null,
   "metadata": {},
   "outputs": [],
   "source": [
    "# Group the data by the 'Model' column and count the frequency of each model\n",
    "model_count = SUV.groupby('Model')['Model'].count().sort_values(ascending=False)\n",
    "\n",
    "print(model_count)\n",
    "len(model_count)"
   ]
  },
  {
   "cell_type": "code",
   "execution_count": null,
   "metadata": {},
   "outputs": [],
   "source": [
    "# View the data types after changing them\n",
    "SUV.info()"
   ]
  },
  {
   "cell_type": "code",
   "execution_count": null,
   "metadata": {},
   "outputs": [],
   "source": [
    "# Check different types and their value counts for 'Transmission' and 'Fuel' columns\n",
    "SUV['Transmission'].value_counts()"
   ]
  },
  {
   "cell_type": "code",
   "execution_count": null,
   "metadata": {},
   "outputs": [],
   "source": [
    "SUV['Fuel'].value_counts()"
   ]
  },
  {
   "cell_type": "code",
   "execution_count": null,
   "metadata": {},
   "outputs": [],
   "source": [
    "# Do the label encoding for 'Transmission and 'Fuel' columns\n",
    "transmission_l = LabelEncoder()\n",
    "fuel_l = LabelEncoder()\n",
    "\n",
    "SUV['Transmission_N'] = transmission_l.fit_transform(SUV['Transmission'])\n",
    "SUV['Fuel_N'] = fuel_l.fit_transform(SUV['Fuel'])"
   ]
  },
  {
   "cell_type": "code",
   "execution_count": null,
   "metadata": {},
   "outputs": [],
   "source": [
    "# Check the correlation \n",
    "SUV.corr()['Price']"
   ]
  },
  {
   "cell_type": "code",
   "execution_count": null,
   "metadata": {},
   "outputs": [],
   "source": [
    "# Drop unwanted columns for price prediction as they have very small correlation\n",
    "SUV = SUV.drop(['Transmission','Fuel','Fuel_N','Transmission_N'], axis = 'columns')"
   ]
  },
  {
   "cell_type": "code",
   "execution_count": null,
   "metadata": {},
   "outputs": [],
   "source": [
    "# View the shape of the data set\n",
    "SUV.shape"
   ]
  },
  {
   "attachments": {},
   "cell_type": "markdown",
   "metadata": {},
   "source": [
    "# Encoding"
   ]
  },
  {
   "cell_type": "code",
   "execution_count": null,
   "metadata": {},
   "outputs": [],
   "source": [
    "# Do the one-hot encoding\n",
    "SUV=pd.get_dummies(SUV)"
   ]
  },
  {
   "cell_type": "code",
   "execution_count": null,
   "metadata": {},
   "outputs": [],
   "source": [
    "# Preview data\n",
    "SUV.head(50)"
   ]
  },
  {
   "cell_type": "code",
   "execution_count": null,
   "metadata": {},
   "outputs": [],
   "source": [
    "# View the shape of dataset after encoding\n",
    "SUV.shape"
   ]
  },
  {
   "attachments": {},
   "cell_type": "markdown",
   "metadata": {},
   "source": [
    "# Model Building"
   ]
  },
  {
   "cell_type": "code",
   "execution_count": null,
   "metadata": {},
   "outputs": [],
   "source": [
    "# Select columns for X and Y axis\n",
    "x= SUV.drop('Price',axis=1)\n",
    "y= SUV['Price']\n",
    "\n",
    "# Devide train and test data set\n",
    "x_train,x_test,y_train,y_test = train_test_split(x,y,test_size=0.2)\n",
    "x_train.shape, x_test.shape"
   ]
  },
  {
   "cell_type": "code",
   "execution_count": null,
   "metadata": {},
   "outputs": [],
   "source": [
    "# Function to check the model accuracy\n",
    "\n",
    "def model_acc(model):\n",
    "    model.fit(x_train,y_train)\n",
    "    accuracy=model.score(x_test,y_test)\n",
    "    print(str(model)+ '---->' + str(accuracy))"
   ]
  },
  {
   "attachments": {},
   "cell_type": "markdown",
   "metadata": {},
   "source": [
    "### Linear Regression\n"
   ]
  },
  {
   "cell_type": "code",
   "execution_count": null,
   "metadata": {},
   "outputs": [],
   "source": [
    "from sklearn.linear_model import LinearRegression\n",
    "lr=LinearRegression()\n",
    "model_acc(lr)"
   ]
  },
  {
   "attachments": {},
   "cell_type": "markdown",
   "metadata": {},
   "source": [
    "### Lasso Regression\n"
   ]
  },
  {
   "cell_type": "code",
   "execution_count": null,
   "metadata": {},
   "outputs": [],
   "source": [
    "from sklearn.linear_model import Lasso\n",
    "ls=Lasso()\n",
    "model_acc(ls)"
   ]
  },
  {
   "attachments": {},
   "cell_type": "markdown",
   "metadata": {},
   "source": [
    "### Decision Tree Regressor"
   ]
  },
  {
   "cell_type": "code",
   "execution_count": null,
   "metadata": {},
   "outputs": [],
   "source": [
    "from sklearn.tree import DecisionTreeRegressor\n",
    "dt=DecisionTreeRegressor()\n",
    "model_acc(dt)"
   ]
  },
  {
   "attachments": {},
   "cell_type": "markdown",
   "metadata": {},
   "source": [
    "### Random Forest Regressor"
   ]
  },
  {
   "cell_type": "code",
   "execution_count": null,
   "metadata": {},
   "outputs": [],
   "source": [
    "from sklearn.ensemble import RandomForestRegressor\n",
    "rf=RandomForestRegressor()\n",
    "model_acc(rf)"
   ]
  },
  {
   "attachments": {},
   "cell_type": "markdown",
   "metadata": {},
   "source": [
    "# Hyperparameter tunning"
   ]
  },
  {
   "attachments": {},
   "cell_type": "markdown",
   "metadata": {},
   "source": [
    "## Linear Regression\n"
   ]
  },
  {
   "cell_type": "code",
   "execution_count": null,
   "metadata": {},
   "outputs": [],
   "source": [
    "from sklearn.model_selection import GridSearchCV\n",
    "\n",
    "parameters = {'fit_intercept': [True, False],\n",
    "              'n_jobs': [-1, 1, 2]}\n",
    "\n",
    "grid_obj_lr = GridSearchCV(estimator=lr, param_grid=parameters)\n",
    "grid_fit_lr = grid_obj_lr.fit(x_train, y_train)"
   ]
  },
  {
   "cell_type": "code",
   "execution_count": null,
   "metadata": {},
   "outputs": [],
   "source": [
    "best_model_lr = grid_fit_lr.best_estimator_\n",
    "best_model_lr.score(x_test, y_test)"
   ]
  },
  {
   "attachments": {},
   "cell_type": "markdown",
   "metadata": {},
   "source": [
    "## Decison Tree Regression "
   ]
  },
  {
   "cell_type": "code",
   "execution_count": null,
   "metadata": {},
   "outputs": [],
   "source": [
    "from sklearn.model_selection import GridSearchCV\n",
    "\n",
    "\n",
    "# specify hyperparameters and values to search\n",
    "params = {'max_depth': [2, 4, 6, 8, 10],\n",
    "          'min_samples_split': [2, 5, 10, 15, 20],\n",
    "          'min_samples_leaf': [1, 2, 4, 8, 16]}\n",
    "\n",
    "# create GridSearchCV object and fit to data\n",
    "grid_obj_dt = GridSearchCV(estimator=dt, param_grid=params, cv=5, scoring='neg_mean_squared_error')\n",
    "grid_fit_dt = grid_obj_dt.fit(x_train, y_train)\n"
   ]
  },
  {
   "cell_type": "code",
   "execution_count": null,
   "metadata": {},
   "outputs": [],
   "source": [
    "best_model_dt = grid_fit_dt.best_estimator_\n",
    "best_model_dt.score(x_test, y_test)"
   ]
  },
  {
   "cell_type": "code",
   "execution_count": null,
   "metadata": {},
   "outputs": [],
   "source": []
  },
  {
   "cell_type": "markdown",
   "metadata": {},
   "source": []
  },
  {
   "cell_type": "code",
   "execution_count": null,
   "metadata": {},
   "outputs": [],
   "source": []
  },
  {
   "attachments": {},
   "cell_type": "markdown",
   "metadata": {},
   "source": [
    "## Random Forest Regression"
   ]
  },
  {
   "cell_type": "code",
   "execution_count": null,
   "metadata": {},
   "outputs": [],
   "source": [
    "\n",
    "from sklearn.model_selection import GridSearchCV\n",
    "\n",
    "parameters = {'n_estimators':[10, 50, 100],\n",
    "              'criterion':['squared_error','absolute_error','poisson']}\n",
    "\n",
    "grid_obj_rf = GridSearchCV(estimator=rf, param_grid=parameters)\n",
    "grid_fit_rf = grid_obj_rf.fit(x_train, y_train)"
   ]
  },
  {
   "cell_type": "code",
   "execution_count": null,
   "metadata": {},
   "outputs": [],
   "source": [
    "\n",
    "best_model_rf = grid_fit_rf.best_estimator_\n",
    "best_model_rf.score(x_test, y_test)"
   ]
  },
  {
   "attachments": {},
   "cell_type": "markdown",
   "metadata": {},
   "source": [
    "# Predict"
   ]
  },
  {
   "attachments": {},
   "cell_type": "markdown",
   "metadata": {},
   "source": [
    "## Random Forest Regression"
   ]
  },
  {
   "cell_type": "code",
   "execution_count": null,
   "metadata": {},
   "outputs": [],
   "source": [
    "predict_price_rf = best_model_rf.predict(x_test)\n",
    "predict_price_rf"
   ]
  },
  {
   "cell_type": "code",
   "execution_count": null,
   "metadata": {},
   "outputs": [],
   "source": [
    "from sklearn.metrics import r2_score\n",
    "\n",
    "\n",
    "train_accuracy_rf = r2_score(y_test, predict_price_rf)\n",
    "train_accuracy_rf"
   ]
  }
 ],
 "metadata": {
  "kernelspec": {
   "display_name": "Python 3",
   "language": "python",
   "name": "python3"
  },
  "language_info": {
   "codemirror_mode": {
    "name": "ipython",
    "version": 3
   },
   "file_extension": ".py",
   "mimetype": "text/x-python",
   "name": "python",
   "nbconvert_exporter": "python",
   "pygments_lexer": "ipython3",
   "version": "3.9.6"
  },
  "orig_nbformat": 4
 },
 "nbformat": 4,
 "nbformat_minor": 2
}
